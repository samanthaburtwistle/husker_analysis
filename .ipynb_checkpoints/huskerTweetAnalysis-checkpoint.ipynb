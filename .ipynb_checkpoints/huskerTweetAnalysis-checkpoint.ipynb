{
 "cells": [
  {
   "cell_type": "markdown",
   "metadata": {},
   "source": [
    "# Analyzing the Huskers vs. Buckeyes Game via Tweets"
   ]
  },
  {
   "cell_type": "markdown",
   "metadata": {},
   "source": [
    "Now that I have a nice, cleaned data set of Tweets from the Nebraska vs Ohio State game on September 28th, let's do some data analysis!"
   ]
  },
  {
   "cell_type": "code",
   "execution_count": 67,
   "metadata": {
    "collapsed": false
   },
   "outputs": [
    {
     "name": "stdout",
     "output_type": "stream",
     "text": [
      "Index(['Unnamed: 0', 'Username', 'Tweet ID', 'Time', 'User Location', 'Text',\n",
      "       'Tweet Geo Coordinates', 'Is Retweet', 'Is Quote Tweet'],\n",
      "      dtype='object')\n",
      "(13190, 9)\n"
     ]
    }
   ],
   "source": [
    "import pandas as pd\n",
    "import re\n",
    "from nltk.corpus import stopwords\n",
    "import ast\n",
    "\n",
    "# to make it easy for other people to mess with, use a relative path instead of an aboslute path\n",
    "# tweets = pd.read_csv(\"Documents/Husker Project/cleanedGameTweets.csv\")\n",
    "tweets = pd.read_csv(\"./cleanedGameTweets.csv\")\n",
    "\n",
    "print(tweets.columns)\n",
    "print(tweets.shape)\n"
   ]
  },
  {
   "cell_type": "markdown",
   "metadata": {},
   "source": [
    "One small thing: I neglected to get rid of \"stop words\" (common words that don't add much to the text analysis, like \"an,\" \"the,\" \"that,\" etc). Using the nltk list of common English stop words, I'm going to remove them from my Tweets."
   ]
  },
  {
   "cell_type": "code",
   "execution_count": 68,
   "metadata": {
    "collapsed": false
   },
   "outputs": [
    {
     "name": "stdout",
     "output_type": "stream",
     "text": [
      "0               ['ohio', 'state', 'over', 'team', 'total']\n",
      "1                 ['go', 'big', 'red', '#huskers', '#gbr']\n",
      "2        ['brock', 'osweiler', 'at', 'today', 's', '#hu...\n",
      "3        ['shewrap', 'ohio', 'state', 'when', 'they', '...\n",
      "4                           ['let', 's', 'go', 'buckeyes']\n",
      "5        ['i', 'think', 'tonight', 'is', 'the', 'night'...\n",
      "6        ['hours', 'later', 'off', 'hours', 'of', 'slee...\n",
      "7                                        ['old', 'friend']\n",
      "8        ['clemson', 'survives', 'unc', 'but', 'what', ...\n",
      "9        ['no', 'ohio', 'state', 'marching', 'to', 'vic...\n",
      "10                              ['love', 'my', 'buckeyes']\n",
      "11       ['lets', 'go', 'bucks', '#gobucks', '#buckeyen...\n",
      "12       ['do', 'you', 'really', 'think', 'that', 'as',...\n",
      "13       ['go', 'jeremy', 'ruckert', 'and', 'ohio', 'st...\n",
      "14       ['it', 'was', 'tough', 'especially', 'with', '...\n",
      "15       ['i', 'hope', 'nebraska', 'wins', 'in', 'my', ...\n",
      "16       ['old', 'dominion', 'played', 'horrible', 'st'...\n",
      "17       ['espncfb', 'hdouglas', 'treavorscales', 'i', ...\n",
      "18       ['neighbors', 'have', 'been', 'warned', 'dinne...\n",
      "19       ['at', 'home', 'with', 'my', 'wife', 'my', 'do...\n",
      "20       ['there', 's', 'the', 'little', 'cutie', '#buc...\n",
      "21       ['i', 'am', 'hilarious', 'fuck', 'what', 'anyo...\n",
      "22       ['i', 'will', 'fight', 'anyone', 'that', 'says...\n",
      "23                                      ['go', 'buckeyes']\n",
      "24       ['wet', 'field', 'wet', 'football', 'better', ...\n",
      "25       ['f', 'fly', 'over', 'not', 'too', 'shabby', '...\n",
      "26       ['drying', 'out', 'in', 'lincoln', 'just', 'in...\n",
      "27                                    ['it', 'is', 'time']\n",
      "28       ['i', 'hope', 'nebraska', 'and', 'ohio', 'stat...\n",
      "29       ['final', 'thoughts', 'osu', 'nebraska', '#hus...\n",
      "                               ...                        \n",
      "13160    ['yosoy', 'kemp', 'bama', 'lsu', 'clemson', 'g...\n",
      "13161    ['huskers', 'hey', '#huskers', 'what', 'happen...\n",
      "13162    ['just', 'like', 'michigan', 'look', 'forward'...\n",
      "13163    ['laurarutledge', 'ohiostatefb', 'auburnfootba...\n",
      "13164    ['gahhdamn', 'did', 'these', 'niggas', 'even',...\n",
      "13165        ['celebration', 'in', 'lincoln', '#buckeyes']\n",
      "13166    ['didn', 't', 'y', 'all', 'just', 'say', 'the'...\n",
      "13167    ['jaxfryburger', 'kirbyownsmullen', 'it', 's',...\n",
      "13168    ['i', 'put', 'this', 'lose', 'solely', 'on', '...\n",
      "13169    ['retweeting', 'this', 'in', 'honor', 'of', 'w...\n",
      "13170    ['highlights', 'ohio', 'state', 'blasts', 'neb...\n",
      "13171    ['mattrudolph', 'hey', '#huskers', 'what', 'ha...\n",
      "13172                         ['shots', 'fired', 'beasts']\n",
      "13173    ['buckeye', 'haters', 'can', 'eat', 'that', 'c...\n",
      "13174     ['felt', 'like', 'it', 'should', 'have', 'been']\n",
      "13175    ['colton', 'glad', 'your', 'enjoying', 'your',...\n",
      "13176    ['forever', 'red', 'but', 'that', 'was', 'a', ...\n",
      "13177    ['just', 'tw', 'nutz', 'hangin', 'out', 'congr...\n",
      "13178    ['sean', 'callahan', 'husker', 'did', 'you', '...\n",
      "13179    ['harmosa', 'kirkherbstreit', 'ohiostatefb', '...\n",
      "13180    ['don', 't', 'me', 'but', 'nobody', 'wins', 'w...\n",
      "13181    ['isn', 't', 'it', 'like', 'week', 'idk', 'who...\n",
      "13182         ['ohio', 'state', 'beats', 'the', 'huskers']\n",
      "13183                      ['i', 'm', 'happy', '#gobucks']\n",
      "13184          ['absolutely', 'rebuilding', 'year', 'gbr']\n",
      "13185    ['third', 'time', 'the', 'color', 'commentator...\n",
      "13186    ['will', '#ohiostate', 'be', 'in', 'the', '#co...\n",
      "13187    ['how', 'about', 'that', '#husker', 'volleybal...\n",
      "13188                              ['beat', 'that', 'ass']\n",
      "13189    ['i', 'still', 'hate', 'ohio', 'state', 'and',...\n",
      "Name: Text, dtype: object\n"
     ]
    }
   ],
   "source": [
    "type(tweets['Text'])\n",
    "print(tweets['Text'])"
   ]
  },
  {
   "cell_type": "code",
   "execution_count": 69,
   "metadata": {
    "collapsed": false
   },
   "outputs": [
    {
     "data": {
      "text/plain": [
       "0                               [ohio, state, team, total]\n",
       "1                           [go, big, red, #huskers, #gbr]\n",
       "2                 [brock, osweiler, today, #huskers, game]\n",
       "3        [shewrap, ohio, state, win, aldi, kroger, bowl...\n",
       "4                                      [let, go, buckeyes]\n",
       "5        [think, tonight, night, adrian, martinez, thro...\n",
       "6        [hours, later, hours, sleep, stop, us, cheerin...\n",
       "7                                            [old, friend]\n",
       "8        [clemson, survives, unc, game, notre, dame, dr...\n",
       "9        [ohio, state, marching, victory, go, buckeyes,...\n",
       "10                                        [love, buckeyes]\n",
       "11       [lets, go, bucks, #gobucks, #buckeyenation, #t...\n",
       "12       [really, think, husker, fan, unaware, game, go...\n",
       "13       [go, jeremy, ruckert, ohio, state, beat, nebra...\n",
       "14       [tough, especially, ending, clemson, game, sav...\n",
       "15       [hope, nebraska, wins, head, delusional, enoug...\n",
       "16       [old, dominion, played, horrible, st, half, oh...\n",
       "17       [espncfb, hdouglas, treavorscales, picking, oh...\n",
       "18       [neighbors, warned, dinner, crockpot, osu, fla...\n",
       "19       [home, wife, dog, homemade, lasagna, nebraska,...\n",
       "20       [little, cutie, #buckeyenation, baby, buckeye,...\n",
       "21                          [hilarious, fuck, anyone, say]\n",
       "22          [fight, anyone, says, ohio, midwestern, state]\n",
       "23                                          [go, buckeyes]\n",
       "24       [wet, field, wet, football, better, real, care...\n",
       "25       [f, fly, shabby, #airpower, #gbr, ketv, ethanl...\n",
       "26                  [drying, lincoln, time, kickoff, #gbr]\n",
       "27                                                  [time]\n",
       "28       [hope, nebraska, ohio, state, better, barn, mo...\n",
       "29       [final, thoughts, osu, nebraska, #huskers, pla...\n",
       "                               ...                        \n",
       "13160    [yosoy, kemp, bama, lsu, clemson, georgia, ohi...\n",
       "13161    [huskers, hey, #huskers, happened, see, happen...\n",
       "13162    [like, michigan, look, forward, next, variatio...\n",
       "13163    [laurarutledge, ohiostatefb, auburnfootball, a...\n",
       "13164             [gahhdamn, niggas, even, get, bus, play]\n",
       "13165                    [celebration, lincoln, #buckeyes]\n",
       "13166    [say, heisman, race, heating, post, keep, ener...\n",
       "13167    [jaxfryburger, kirbyownsmullen, true, herbstre...\n",
       "13168    [put, lose, solely, husker, vision, playing, s...\n",
       "13169    [retweeting, honor, #buckeyes, multimillionair...\n",
       "13170    [highlights, ohio, state, blasts, nebraska, li...\n",
       "13171    [mattrudolph, hey, #huskers, happened, see, ha...\n",
       "13172                               [shots, fired, beasts]\n",
       "13173    [buckeye, haters, eat, crow, whooped, nebraska...\n",
       "13174                                         [felt, like]\n",
       "13175    [colton, glad, enjoying, time, amongst, greate...\n",
       "13176                       [forever, red, beatdown, #gbr]\n",
       "13177    [tw, nutz, hangin, congratulations, theohiosta...\n",
       "13178    [sean, callahan, husker, know, name, husker, g...\n",
       "13179    [harmosa, kirkherbstreit, ohiostatefb, huskers...\n",
       "13180                    [nobody, wins, ohio, state, good]\n",
       "13181    [like, week, idk, hate, sports, twitter, mom, ...\n",
       "13182                        [ohio, state, beats, huskers]\n",
       "13183                                    [happy, #gobucks]\n",
       "13184                  [absolutely, rebuilding, year, gbr]\n",
       "13185    [third, time, color, commentator, called, obla...\n",
       "13186    [#ohiostate, #collegefootballplayoff, photo, c...\n",
       "13187    [#husker, volleyball, game, tonight, #gbr, #no...\n",
       "13188                                          [beat, ass]\n",
       "13189           [still, hate, ohio, state, love, nebraska]\n",
       "Name: Text, dtype: object"
      ]
     },
     "execution_count": 69,
     "metadata": {},
     "output_type": "execute_result"
    }
   ],
   "source": [
    "stopWords = stopwords.words('english')\n",
    "\n",
    "\n",
    "def removeStopWords(list1):\n",
    "    \"\"\"converts string to an actual list, then removes stop words\"\"\"\n",
    "    actualList = ast.literal_eval(list1)\n",
    "    cleanList = [word for word in actualList if word not in stopWords]\n",
    "    return cleanList\n",
    "\n",
    "\n",
    "tweets['Text'] = tweets['Text'].apply(removeStopWords)\n",
    "tweets['Text']"
   ]
  },
  {
   "cell_type": "code",
   "execution_count": null,
   "metadata": {
    "collapsed": true
   },
   "outputs": [],
   "source": []
  }
 ],
 "metadata": {
  "kernelspec": {
   "display_name": "Python 3",
   "language": "python",
   "name": "python3"
  },
  "language_info": {
   "codemirror_mode": {
    "name": "ipython",
    "version": 3
   },
   "file_extension": ".py",
   "mimetype": "text/x-python",
   "name": "python",
   "nbconvert_exporter": "python",
   "pygments_lexer": "ipython3",
   "version": "3.6.5"
  }
 },
 "nbformat": 4,
 "nbformat_minor": 2
}
